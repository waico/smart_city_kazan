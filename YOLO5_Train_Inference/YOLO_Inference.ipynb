{
  "nbformat": 4,
  "nbformat_minor": 0,
  "metadata": {
    "colab": {
      "name": "YOLO_Inference.ipynb",
      "provenance": [],
      "collapsed_sections": []
    },
    "kernelspec": {
      "name": "python3",
      "display_name": "Python 3"
    },
    "language_info": {
      "name": "python"
    }
  },
  "cells": [
    {
      "cell_type": "code",
      "metadata": {
        "id": "fleL8CCXHT9h"
      },
      "source": [
        "import torch\n",
        "import pandas as pd\n",
        "import shutil\n",
        "import io\n",
        "import numpy as np\n",
        "import ast\n",
        "import cv2\n",
        "import os\n",
        "from tqdm.auto import tqdm\n",
        "import shutil as sh\n",
        "import matplotlib.pyplot as plt\n",
        "\n",
        "from torch.utils.data import TensorDataset, DataLoader, RandomSampler, SequentialSampler\n",
        "from keras.preprocessing.sequence import pad_sequences\n",
        "from sklearn.model_selection import train_test_split\n",
        "from tqdm import tqdm, trange\n",
        "from sklearn.metrics import accuracy_score\n",
        "from sklearn.model_selection import train_test_split"
      ],
      "execution_count": 1,
      "outputs": []
    },
    {
      "cell_type": "code",
      "metadata": {
        "colab": {
          "base_uri": "https://localhost:8080/"
        },
        "id": "0MlEaDoQJoBT",
        "outputId": "70ca1f94-9a3f-480e-8069-cbddd1d174c8"
      },
      "source": [
        "from google.colab import drive\n",
        "drive.mount('/content/drive')"
      ],
      "execution_count": 3,
      "outputs": [
        {
          "output_type": "stream",
          "name": "stdout",
          "text": [
            "Mounted at /content/drive\n"
          ]
        }
      ]
    },
    {
      "cell_type": "code",
      "metadata": {
        "colab": {
          "base_uri": "https://localhost:8080/"
        },
        "id": "vPbX0bj9JLAw",
        "outputId": "f68c6a31-4973-438c-abd2-6688458bff7d"
      },
      "source": [
        "!git clone https://github.com/ultralytics/yolov5 \n",
        "!mv yolov5/* ./"
      ],
      "execution_count": 15,
      "outputs": [
        {
          "output_type": "stream",
          "name": "stdout",
          "text": [
            "Cloning into 'yolov5'...\n",
            "remote: Enumerating objects: 10237, done.\u001b[K\n",
            "remote: Total 10237 (delta 0), reused 0 (delta 0), pack-reused 10237\u001b[K\n",
            "Receiving objects: 100% (10237/10237), 10.44 MiB | 27.92 MiB/s, done.\n",
            "Resolving deltas: 100% (7099/7099), done.\n"
          ]
        }
      ]
    },
    {
      "cell_type": "code",
      "metadata": {
        "id": "D6VTKTp8JK-q"
      },
      "source": [
        "!pip install -r requirements.txt"
      ],
      "execution_count": 1,
      "outputs": []
    },
    {
      "cell_type": "code",
      "metadata": {
        "colab": {
          "base_uri": "https://localhost:8080/"
        },
        "id": "-TGhUW-8JK82",
        "outputId": "1ef04ee2-90b8-4889-b603-4cde98995e11"
      },
      "source": [
        "%%writefile data.yaml\n",
        "nc: 4\n",
        "names: ['Пустой','Переполнен', 'Мусор', 'Огонь']"
      ],
      "execution_count": 2,
      "outputs": [
        {
          "output_type": "stream",
          "name": "stdout",
          "text": [
            "Writing data.yaml\n"
          ]
        }
      ]
    },
    {
      "cell_type": "code",
      "metadata": {
        "colab": {
          "base_uri": "https://localhost:8080/"
        },
        "id": "4vcWWxShJK6x",
        "outputId": "9e62142a-bc8a-46ef-f0a7-f0499421a5e0"
      },
      "source": [
        "!python ./detect.py --weights '/content/drive/MyDrive/hackaton_02.12./yolo5_all_content/runs/train/yolov5x_fold0/weights/best_4.pt' --img 640 --conf 0.5 --source '/content/drive/MyDrive/hackaton_02.12./trash/3/23-11-2021_10-03-13_PM.png'"
      ],
      "execution_count": 21,
      "outputs": [
        {
          "output_type": "stream",
          "name": "stdout",
          "text": [
            "\u001b[34m\u001b[1mdetect: \u001b[0mweights=['/content/drive/MyDrive/hackaton_02.12./yolo5_all_content/runs/train/yolov5x_fold0/weights/best.pt'], source=/content/drive/MyDrive/hackaton_02.12./trash/3/23-11-2021_10-03-13_PM.png, imgsz=[640, 640], conf_thres=0.5, iou_thres=0.45, max_det=1000, device=, view_img=False, save_txt=False, save_conf=False, save_crop=False, nosave=False, classes=None, agnostic_nms=False, augment=False, visualize=False, update=False, project=runs/detect, name=exp, exist_ok=False, line_thickness=3, hide_labels=False, hide_conf=False, half=False, dnn=False\n",
            "YOLOv5 🚀 2021-12-2 torch 1.10.0+cu111 CPU\n",
            "\n",
            "Fusing layers... \n",
            "Model Summary: 444 layers, 86180143 parameters, 0 gradients, 204.0 GFLOPs\n",
            "image 1/1 /content/drive/.shortcut-targets-by-id/1GY2WXNNp9DLvJVOxywAl6XLrm7z9l6Kw/trash/3/23-11-2021_10-03-13_PM.png: 384x640 2 Переполненs, Done. (2.292s)\n",
            "Speed: 1.4ms pre-process, 2291.8ms inference, 17.4ms NMS per image at shape (1, 3, 640, 640)\n",
            "Results saved to \u001b[1mruns/detect/exp4\u001b[0m\n"
          ]
        }
      ]
    },
    {
      "cell_type": "code",
      "metadata": {
        "id": "EpqVzt9UJK45"
      },
      "source": [
        ""
      ],
      "execution_count": null,
      "outputs": []
    },
    {
      "cell_type": "code",
      "metadata": {
        "id": "AezDX1whJK26"
      },
      "source": [
        ""
      ],
      "execution_count": null,
      "outputs": []
    },
    {
      "cell_type": "code",
      "metadata": {
        "id": "5AgcselEJK0q"
      },
      "source": [
        ""
      ],
      "execution_count": null,
      "outputs": []
    },
    {
      "cell_type": "code",
      "metadata": {
        "id": "Wi5RNdsvJKyn"
      },
      "source": [
        ""
      ],
      "execution_count": null,
      "outputs": []
    },
    {
      "cell_type": "code",
      "metadata": {
        "id": "_xNiA3TMJKwp"
      },
      "source": [
        ""
      ],
      "execution_count": null,
      "outputs": []
    },
    {
      "cell_type": "code",
      "metadata": {
        "id": "65dMyb9eJKur"
      },
      "source": [
        ""
      ],
      "execution_count": null,
      "outputs": []
    },
    {
      "cell_type": "code",
      "metadata": {
        "id": "G2XXtkRjJKso"
      },
      "source": [
        ""
      ],
      "execution_count": null,
      "outputs": []
    },
    {
      "cell_type": "code",
      "metadata": {
        "id": "FDjfLtGHJKqx"
      },
      "source": [
        ""
      ],
      "execution_count": null,
      "outputs": []
    },
    {
      "cell_type": "code",
      "metadata": {
        "id": "olPIU_LqJKov"
      },
      "source": [
        ""
      ],
      "execution_count": null,
      "outputs": []
    },
    {
      "cell_type": "code",
      "metadata": {
        "colab": {
          "base_uri": "https://localhost:8080/"
        },
        "id": "k9QoiEmAJKnA",
        "outputId": "419d7a27-3d4b-4c59-99ab-037b2eba171b"
      },
      "source": [
        "!ls -la /content/drive/MyDrive/hackaton_02.12."
      ],
      "execution_count": 35,
      "outputs": [
        {
          "output_type": "stream",
          "name": "stdout",
          "text": [
            "total 169019\n",
            "drwx------ 2 root root      4096 Dec  2 14:24 .ipynb_checkpoints\n",
            "lrw------- 1 root root         0 Dec  2 13:20 kazan_cam -> /content/drive/.shortcut-targets-by-id/1nfXWse7NhP48Z52b8Hu4VYPEHd0h5m3F/kazan_cam\n",
            "drwx------ 2 root root      4096 Dec  2 14:24 train_trash\n",
            "lrw------- 1 root root         0 Dec  2 13:20 trash -> /content/drive/.shortcut-targets-by-id/1GY2WXNNp9DLvJVOxywAl6XLrm7z9l6Kw/trash\n",
            "-rw------- 1 root root 173063005 Dec  2 17:19 weights.pt\n",
            "drwx------ 6 root root      4096 Dec  2 16:55 yolo5_all_content\n"
          ]
        }
      ]
    },
    {
      "cell_type": "markdown",
      "metadata": {
        "id": "8Q7QwEwiPSTl"
      },
      "source": [
        "Get camera screens"
      ]
    },
    {
      "cell_type": "code",
      "metadata": {
        "id": "kdilmO3eJKkw"
      },
      "source": [
        "path = '/content/drive/MyDrive/hackaton_02.12./kazan_cam/'\n",
        "new_path = '/content/drive/MyDrive/hackaton_02.12./kazan_cam_all/'\n",
        "for dir in os.listdir(path):\n",
        "  if int(dir) > 15:\n",
        "    for file in os.listdir(path+dir):\n",
        "      #print(new_path + dir + '_' + file.lower())\n",
        "      shutil.copy(path + dir + '/' + file , new_path + dir + '_' + file.lower() )"
      ],
      "execution_count": 8,
      "outputs": []
    },
    {
      "cell_type": "code",
      "metadata": {
        "id": "E1Vh_cvUBrrz"
      },
      "source": [
        "!cd "
      ],
      "execution_count": 16,
      "outputs": []
    },
    {
      "cell_type": "code",
      "metadata": {
        "colab": {
          "base_uri": "https://localhost:8080/"
        },
        "id": "ol5m3YOxBw3L",
        "outputId": "f132070b-6db0-4b4a-d3a6-2d9183cdd953"
      },
      "source": [
        "!pwd"
      ],
      "execution_count": 17,
      "outputs": [
        {
          "output_type": "stream",
          "name": "stdout",
          "text": [
            "/content\n"
          ]
        }
      ]
    },
    {
      "cell_type": "code",
      "metadata": {
        "colab": {
          "base_uri": "https://localhost:8080/"
        },
        "id": "Yw_PP9dlQR4k",
        "outputId": "e2f23210-1530-42c5-c2a1-9c2b1b02e0b9"
      },
      "source": [
        "!du -sh /content/drive/MyDrive/hackaton_02.12./*"
      ],
      "execution_count": 18,
      "outputs": [
        {
          "output_type": "stream",
          "name": "stdout",
          "text": [
            "0\t/content/drive/MyDrive/hackaton_02.12./kazan_cam\n",
            "5.0G\t/content/drive/MyDrive/hackaton_02.12./kazan_cam_all\n",
            "1.6G\t/content/drive/MyDrive/hackaton_02.12./train_trash\n",
            "0\t/content/drive/MyDrive/hackaton_02.12./trash\n",
            "1.8G\t/content/drive/MyDrive/hackaton_02.12./yolo5_all_content\n"
          ]
        }
      ]
    },
    {
      "cell_type": "code",
      "metadata": {
        "id": "OmGAbEapBk8S"
      },
      "source": [
        ""
      ],
      "execution_count": null,
      "outputs": []
    }
  ]
}