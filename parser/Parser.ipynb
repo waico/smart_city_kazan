{
 "cells": [
  {
   "cell_type": "code",
   "execution_count": 18,
   "metadata": {},
   "outputs": [],
   "source": [
    "import os \n",
    "import shutil\n",
    "import requests\n",
    "from YandexImagesParser.ImageParser import YandexImage\n"
   ]
  },
  {
   "cell_type": "code",
   "execution_count": 44,
   "metadata": {},
   "outputs": [],
   "source": [
    "def save_images(text_query,pages=1):\n",
    "    path = f'pictures/{text_query}'\n",
    "    if os.path.exists(path):\n",
    "        pass\n",
    "    else:\n",
    "        os.mkdir(path)\n",
    "    i=0\n",
    "    for page in range(pages):\n",
    "        for item in parser.search(text_query,page=page):\n",
    "            url = item.preview.url\n",
    "            response = requests.get(url, stream=True)\n",
    "            form = item.url.split('.')[-1].split('?')[0].split('&')[0]\n",
    "            if form.lower() not in ['raw','jpeg','tiff','bmp','gif','jpg','png']:\n",
    "                continue\n",
    "            name = str(i) + '.' + form\n",
    "            i+=1\n",
    "            with open(path+'/'+name, 'wb') as out_file:\n",
    "                shutil.copyfileobj(response.raw, out_file)\n",
    "            del response"
   ]
  },
  {
   "cell_type": "code",
   "execution_count": 46,
   "metadata": {},
   "outputs": [],
   "source": [
    "save_images('Мусор видно с окна',pages=10)\n",
    "save_images('Мусор',pages=10)\n",
    "save_images('Баки переполнены',pages=10)"
   ]
  }
 ],
 "metadata": {
  "kernelspec": {
   "display_name": "Python 3",
   "language": "python",
   "name": "python3"
  },
  "language_info": {
   "codemirror_mode": {
    "name": "ipython",
    "version": 3
   },
   "file_extension": ".py",
   "mimetype": "text/x-python",
   "name": "python",
   "nbconvert_exporter": "python",
   "pygments_lexer": "ipython3",
   "version": "3.7.6"
  },
  "toc": {
   "base_numbering": 1,
   "nav_menu": {},
   "number_sections": true,
   "sideBar": true,
   "skip_h1_title": false,
   "title_cell": "Table of Contents",
   "title_sidebar": "Contents",
   "toc_cell": false,
   "toc_position": {},
   "toc_section_display": true,
   "toc_window_display": false
  }
 },
 "nbformat": 4,
 "nbformat_minor": 4
}
